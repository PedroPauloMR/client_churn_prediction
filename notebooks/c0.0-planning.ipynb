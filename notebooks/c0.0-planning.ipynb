{
 "cells": [
  {
   "cell_type": "markdown",
   "metadata": {},
   "source": [
    "# Solution Planning"
   ]
  },
  {
   "cell_type": "markdown",
   "metadata": {},
   "source": [
    "The TopBottom company need our services in order to verify the churn rate and predict possible churns in the future. They verified recency has decreased few months ago."
   ]
  },
  {
   "cell_type": "markdown",
   "metadata": {},
   "source": [
    "For this, we need:\n",
    "- What is the current churn rate of the company?\n",
    "- How the churn rate vary along the year?\n",
    "- What is the model performance in predict the churn clients?\n",
    "- What is the raw income if this model stop the churn clients?\n",
    "- If a promotion ticket is possible, what is the value given to the client and what is the cost for the company?"
   ]
  },
  {
   "cell_type": "markdown",
   "metadata": {},
   "source": [
    "The dataset:\n",
    "- **RowNumber**: number of column\n",
    "- **CustomerID**: client ID\n",
    "- **Surname**: client last name\n",
    "- **CreditScore**: Consumption market score\n",
    "- **Geography**: Estate of client's residence\n",
    "- **Gender**: client gender (male/female)\n",
    "- **Age**: client age\n",
    "- **Tenure**: number of years the client stayed active\n",
    "- **Balance**: Amount of money in the customers' account\n",
    "- **NumOfProducts**: Number of products bought by the client\n",
    "- **HasCrCard**: Identify if the client has or no a credit card\n",
    "- **IsActiveMember**: Identify if the client still has an active registry in TopBottom (within the last 12 months)\n",
    "- **EstimateSalary**: client estimated anual salary\n",
    "- **Exited**: Identify if the client is or no in **CHURN**"
   ]
  },
  {
   "cell_type": "markdown",
   "metadata": {},
   "source": [
    "- **OUTPUT**:\n",
    "    - Create an API that consumes the model? It will be in Heroku or another cloud service? Or test in local machine?\n",
    "    - Model itself (classifier)\n",
    "    - Maybe a streamlit ?\n",
    "\n",
    "- **PROCESS (TASKS)**:\n",
    "    - Load the dataset\n",
    "    - verify dimensions and NAN values\n",
    "    - Create a descriptive analysis (mean, median, std ...)\n",
    "    - Create more features based on the originals in the dataset\n",
    "    - EDA (univariate an bivariate)\n",
    "    - Bring hypothesis\n",
    "    - Split the dataset to evaluate the model in the end\n",
    "    - Start the encoding/scaling if necessary\n",
    "    - Compare models via cross-validation (XGBoost, RF, LogReg, CatBoost ...)\n",
    "    - Evaluate if the splitted part\n",
    "    - Fit all dataset\n",
    "    - Bring scenarios to evaluate the business metrics, like: Worst and Best Scenarios, cost of the promotional ticket ...\n",
    "    - Model deployment\n",
    "\n",
    "- **INPUT**:\n",
    "    - It has just 1 dataset. Is it correct ?\n",
    "    - Will there be only one input in the final process?\n",
    "    - Will be necessary create a function in google sheets?"
   ]
  },
  {
   "cell_type": "markdown",
   "metadata": {},
   "source": [
    "> DATASET\n",
    "\n",
    "https://www.kaggle.com/datasets/mervetorkan/churndataset"
   ]
  },
  {
   "cell_type": "markdown",
   "metadata": {},
   "source": []
  },
  {
   "cell_type": "markdown",
   "metadata": {},
   "source": []
  }
 ],
 "metadata": {
  "language_info": {
   "name": "python"
  },
  "orig_nbformat": 4
 },
 "nbformat": 4,
 "nbformat_minor": 2
}
